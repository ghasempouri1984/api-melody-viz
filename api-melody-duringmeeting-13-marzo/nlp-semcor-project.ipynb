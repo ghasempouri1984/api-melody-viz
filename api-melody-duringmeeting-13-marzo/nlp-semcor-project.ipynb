{
 "cells": [
  {
   "cell_type": "code",
   "execution_count": 2,
   "metadata": {},
   "outputs": [
    {
     "name": "stderr",
     "output_type": "stream",
     "text": [
      "[nltk_data] Downloading package semcor to C:\\Users\\L5\n",
      "[nltk_data]     15IMH6-58IX\\AppData\\Roaming\\nltk_data...\n",
      "[nltk_data]   Package semcor is already up-to-date!\n"
     ]
    },
    {
     "data": {
      "text/plain": [
       "True"
      ]
     },
     "execution_count": 2,
     "metadata": {},
     "output_type": "execute_result"
    }
   ],
   "source": [
    "import nltk\n",
    "nltk.download('semcor')\n"
   ]
  },
  {
   "cell_type": "code",
   "execution_count": 3,
   "metadata": {},
   "outputs": [
    {
     "name": "stdout",
     "output_type": "stream",
     "text": [
      "[[(['The'], None), (['Fulton', 'County', 'Grand', 'Jury'], Lemma('group.n.01.group')), (['said'], Lemma('state.v.01.say')), (['Friday'], Lemma('friday.n.01.Friday')), (['an'], None), (['investigation'], Lemma('probe.n.01.investigation')), (['of'], None), (['Atlanta'], Lemma('atlanta.n.01.Atlanta')), ([\"'s\"], None), (['recent'], Lemma('late.s.03.recent')), (['primary', 'election'], Lemma('primary.n.01.primary_election')), (['produced'], Lemma('produce.v.04.produce')), (['``'], None), (['no'], None), (['evidence'], Lemma('evidence.n.01.evidence')), ([\"''\"], None), (['that'], None), (['any'], None), (['irregularities'], Lemma('abnormality.n.04.irregularity')), (['took', 'place'], Lemma('happen.v.01.take_place')), (['.'], None)], [(['The'], None), (['jury'], Lemma('jury.n.01.jury')), (['further'], Lemma('far.r.02.far')), (['said'], Lemma('state.v.01.say')), (['in'], None), (['term'], Lemma('term.n.02.term')), (['end'], Lemma('end.n.02.end')), (['presentments'], Lemma('presentment.n.01.presentment')), (['that'], None), (['the'], None), (['City', 'Executive', 'Committee'], Lemma('group.n.01.group')), ([','], None), (['which'], None), (['had'], Lemma('own.v.01.have')), (['over-all'], Lemma('overall.s.02.overall')), (['charge'], Lemma('mission.n.03.charge')), (['of'], None), (['the'], None), (['election'], Lemma('election.n.01.election')), ([','], None), (['``'], None), (['deserves'], Lemma('deserve.v.01.deserve')), (['the'], None), (['praise'], Lemma('praise.n.01.praise')), (['and'], None), (['thanks'], Lemma('thanks.n.01.thanks')), (['of'], None), (['the'], None), (['City', 'of', 'Atlanta'], Lemma('location.n.01.location')), ([\"''\"], None), (['for'], None), (['the'], None), (['manner'], Lemma('manner.n.01.manner')), (['in'], None), (['which'], None), (['the'], None), (['election'], Lemma('election.n.01.election')), (['was'], None), (['conducted'], Lemma('conduct.v.01.conduct')), (['.'], None)], [(['The'], None), (['September'], Lemma('september.n.01.September')), (['October'], Lemma('october.n.01.October')), (['term'], Lemma('term.n.02.term')), (['jury'], Lemma('jury.n.01.jury')), (['had'], None), (['been'], None), (['charged'], Lemma('appoint.v.02.charge')), (['by'], None), (['Fulton'], Lemma('location.n.01.location')), (['Superior', 'Court', 'Judge', 'Durwood', 'Pye'], Lemma('person.n.01.person')), (['to'], None), (['investigate'], Lemma('investigate.v.02.investigate')), (['reports'], Lemma('report.n.03.report')), (['of'], None), (['possible'], Lemma('potential.a.01.possible')), (['``'], None), (['irregularities'], Lemma('abnormality.n.04.irregularity')), ([\"''\"], None), (['in'], None), (['the'], None), (['hard-fought'], Lemma('hard-fought.s.01.hard-fought')), (['primary'], Lemma('primary.n.01.primary')), (['which'], None), (['was'], None), (['won'], Lemma('win.v.01.win')), (['by'], None), (['Mayor-nominate', 'Ivan', 'Allen', 'Jr.'], Lemma('person.n.01.person')), (['.'], None)]]\n"
     ]
    }
   ],
   "source": [
    "from nltk.corpus import semcor\n",
    "import nltk\n",
    "\n",
    "tagged_sentences = semcor.tagged_sents(tag='both')\n",
    "\n",
    "word_lemma_pairs = [[(tree.leaves(), tree.label() if isinstance(tree.label(), nltk.corpus.reader.wordnet.Lemma) else None) \n",
    "                      for tree in sentence] \n",
    "                     for sentence in tagged_sentences]\n",
    "\n",
    "print(word_lemma_pairs[:3])  # print the first 3 sentences to check\n"
   ]
  },
  {
   "cell_type": "code",
   "execution_count": 4,
   "metadata": {},
   "outputs": [
    {
     "data": {
      "text/plain": [
       "[([None, None, ['Fulton', 'County', 'Grand', 'Jury'], ['said']],\n",
       "  ['The'],\n",
       "  None),\n",
       " ([None, ['The'], ['said'], ['Friday']],\n",
       "  ['Fulton', 'County', 'Grand', 'Jury'],\n",
       "  Lemma('group.n.01.group')),\n",
       " ([['The'], ['Fulton', 'County', 'Grand', 'Jury'], ['Friday'], ['an']],\n",
       "  ['said'],\n",
       "  Lemma('state.v.01.say')),\n",
       " ([['Fulton', 'County', 'Grand', 'Jury'], ['said'], ['an'], ['investigation']],\n",
       "  ['Friday'],\n",
       "  Lemma('friday.n.01.Friday')),\n",
       " ([['said'], ['Friday'], ['investigation'], ['of']], ['an'], None)]"
      ]
     },
     "execution_count": 4,
     "metadata": {},
     "output_type": "execute_result"
    }
   ],
   "source": [
    "def create_context_window(word_lemma_pairs, window_size=2):\n",
    "    \"\"\"\n",
    "    Create context windows for each word in each sentence.\n",
    "\n",
    "    Each data point will consist of a word, its sense, and the words \n",
    "    in its context window. If a word is near the beginning or end of \n",
    "    a sentence, the context window will be padded with None.\n",
    "\n",
    "    Args:\n",
    "        word_lemma_pairs: List of sentences, where each sentence is a\n",
    "            list of (word, lemma) pairs.\n",
    "        window_size: The number of words to include in the context\n",
    "            window on each side of the target word.\n",
    "\n",
    "    Returns:\n",
    "        A list of tuples, where each tuple is (context, word, lemma).\n",
    "        context is a list of words, word is a string, and lemma is a\n",
    "        Synset object or None.\n",
    "    \"\"\"\n",
    "    data = []\n",
    "    for sentence in word_lemma_pairs:\n",
    "        # Pad the sentence with None for context windows at the start and end\n",
    "        padded_sentence = [(None, None)]*window_size + sentence + [(None, None)]*window_size\n",
    "        for i in range(window_size, len(padded_sentence) - window_size):\n",
    "            context = [padded_sentence[i+j][0] for j in range(-window_size, window_size+1) if j != 0]\n",
    "            word, lemma = padded_sentence[i]\n",
    "            data.append((context, word, lemma))\n",
    "    return data\n",
    "\n",
    "data = create_context_window(word_lemma_pairs)\n",
    "data[:5]  # show the first 5 data points\n"
   ]
  },
  {
   "cell_type": "code",
   "execution_count": 5,
   "metadata": {},
   "outputs": [],
   "source": [
    "from sklearn.model_selection import train_test_split\n",
    "\n",
    "# Assuming \"data\" is your list of (context, word, lemma) tuples\n",
    "X = [x[0] for x in data]  # input data (context words)\n",
    "y = [x[2] for x in data]  # target data (word senses)\n",
    "\n",
    "X_train, X_test, y_train, y_test = train_test_split(X, y, test_size=0.2, random_state=42)\n"
   ]
  },
  {
   "cell_type": "code",
   "execution_count": 6,
   "metadata": {},
   "outputs": [],
   "source": [
    "from sklearn.feature_extraction.text import CountVectorizer\n",
    "\n",
    "# Create a CountVectorizer object\n",
    "vectorizer = CountVectorizer()\n",
    "\n",
    "# Fit the vectorizer to the training data and transform the training data\n",
    "# Transform the testing data\n",
    "X_train_vect = vectorizer.fit_transform([' '.join(word[0] if isinstance(word, list) else '' for word in context) for context in X_train])\n",
    "X_test_vect = vectorizer.transform([' '.join(word[0] if isinstance(word, list) else '' for word in context) for context in X_test])\n"
   ]
  },
  {
   "cell_type": "code",
   "execution_count": 7,
   "metadata": {},
   "outputs": [
    {
     "ename": "NameError",
     "evalue": "name 'y_train_str' is not defined",
     "output_type": "error",
     "traceback": [
      "\u001b[1;31m---------------------------------------------------------------------------\u001b[0m",
      "\u001b[1;31mNameError\u001b[0m                                 Traceback (most recent call last)",
      "Cell \u001b[1;32mIn[7], line 4\u001b[0m\n\u001b[0;32m      1\u001b[0m \u001b[39mfrom\u001b[39;00m \u001b[39msklearn\u001b[39;00m\u001b[39m.\u001b[39;00m\u001b[39mlinear_model\u001b[39;00m \u001b[39mimport\u001b[39;00m SGDClassifier\n\u001b[0;32m      3\u001b[0m clf \u001b[39m=\u001b[39m SGDClassifier(loss\u001b[39m=\u001b[39m\u001b[39m'\u001b[39m\u001b[39mlog\u001b[39m\u001b[39m'\u001b[39m)\n\u001b[1;32m----> 4\u001b[0m clf\u001b[39m.\u001b[39mfit(X_train_vect, y_train_str)\n\u001b[0;32m      6\u001b[0m y_pred \u001b[39m=\u001b[39m clf\u001b[39m.\u001b[39mpredict(X_test_vect)\n\u001b[0;32m      8\u001b[0m accuracy \u001b[39m=\u001b[39m accuracy_score(y_test_str, y_pred)\n",
      "\u001b[1;31mNameError\u001b[0m: name 'y_train_str' is not defined"
     ]
    }
   ],
   "source": [
    "from sklearn.linear_model import SGDClassifier\n",
    "\n",
    "clf = SGDClassifier(loss='log')\n",
    "clf.fit(X_train_vect, y_train_str)\n",
    "\n",
    "y_pred = clf.predict(X_test_vect)\n",
    "\n",
    "accuracy = accuracy_score(y_test_str, y_pred)\n",
    "\n",
    "print(\"Accuracy:\", accuracy)\n"
   ]
  },
  {
   "cell_type": "code",
   "execution_count": 9,
   "metadata": {},
   "outputs": [
    {
     "data": {
      "text/html": [
       "<style>#sk-container-id-1 {color: black;background-color: white;}#sk-container-id-1 pre{padding: 0;}#sk-container-id-1 div.sk-toggleable {background-color: white;}#sk-container-id-1 label.sk-toggleable__label {cursor: pointer;display: block;width: 100%;margin-bottom: 0;padding: 0.3em;box-sizing: border-box;text-align: center;}#sk-container-id-1 label.sk-toggleable__label-arrow:before {content: \"▸\";float: left;margin-right: 0.25em;color: #696969;}#sk-container-id-1 label.sk-toggleable__label-arrow:hover:before {color: black;}#sk-container-id-1 div.sk-estimator:hover label.sk-toggleable__label-arrow:before {color: black;}#sk-container-id-1 div.sk-toggleable__content {max-height: 0;max-width: 0;overflow: hidden;text-align: left;background-color: #f0f8ff;}#sk-container-id-1 div.sk-toggleable__content pre {margin: 0.2em;color: black;border-radius: 0.25em;background-color: #f0f8ff;}#sk-container-id-1 input.sk-toggleable__control:checked~div.sk-toggleable__content {max-height: 200px;max-width: 100%;overflow: auto;}#sk-container-id-1 input.sk-toggleable__control:checked~label.sk-toggleable__label-arrow:before {content: \"▾\";}#sk-container-id-1 div.sk-estimator input.sk-toggleable__control:checked~label.sk-toggleable__label {background-color: #d4ebff;}#sk-container-id-1 div.sk-label input.sk-toggleable__control:checked~label.sk-toggleable__label {background-color: #d4ebff;}#sk-container-id-1 input.sk-hidden--visually {border: 0;clip: rect(1px 1px 1px 1px);clip: rect(1px, 1px, 1px, 1px);height: 1px;margin: -1px;overflow: hidden;padding: 0;position: absolute;width: 1px;}#sk-container-id-1 div.sk-estimator {font-family: monospace;background-color: #f0f8ff;border: 1px dotted black;border-radius: 0.25em;box-sizing: border-box;margin-bottom: 0.5em;}#sk-container-id-1 div.sk-estimator:hover {background-color: #d4ebff;}#sk-container-id-1 div.sk-parallel-item::after {content: \"\";width: 100%;border-bottom: 1px solid gray;flex-grow: 1;}#sk-container-id-1 div.sk-label:hover label.sk-toggleable__label {background-color: #d4ebff;}#sk-container-id-1 div.sk-serial::before {content: \"\";position: absolute;border-left: 1px solid gray;box-sizing: border-box;top: 0;bottom: 0;left: 50%;z-index: 0;}#sk-container-id-1 div.sk-serial {display: flex;flex-direction: column;align-items: center;background-color: white;padding-right: 0.2em;padding-left: 0.2em;position: relative;}#sk-container-id-1 div.sk-item {position: relative;z-index: 1;}#sk-container-id-1 div.sk-parallel {display: flex;align-items: stretch;justify-content: center;background-color: white;position: relative;}#sk-container-id-1 div.sk-item::before, #sk-container-id-1 div.sk-parallel-item::before {content: \"\";position: absolute;border-left: 1px solid gray;box-sizing: border-box;top: 0;bottom: 0;left: 50%;z-index: -1;}#sk-container-id-1 div.sk-parallel-item {display: flex;flex-direction: column;z-index: 1;position: relative;background-color: white;}#sk-container-id-1 div.sk-parallel-item:first-child::after {align-self: flex-end;width: 50%;}#sk-container-id-1 div.sk-parallel-item:last-child::after {align-self: flex-start;width: 50%;}#sk-container-id-1 div.sk-parallel-item:only-child::after {width: 0;}#sk-container-id-1 div.sk-dashed-wrapped {border: 1px dashed gray;margin: 0 0.4em 0.5em 0.4em;box-sizing: border-box;padding-bottom: 0.4em;background-color: white;}#sk-container-id-1 div.sk-label label {font-family: monospace;font-weight: bold;display: inline-block;line-height: 1.2em;}#sk-container-id-1 div.sk-label-container {text-align: center;}#sk-container-id-1 div.sk-container {/* jupyter's `normalize.less` sets `[hidden] { display: none; }` but bootstrap.min.css set `[hidden] { display: none !important; }` so we also need the `!important` here to be able to override the default hidden behavior on the sphinx rendered scikit-learn.org. See: https://github.com/scikit-learn/scikit-learn/issues/21755 */display: inline-block !important;position: relative;}#sk-container-id-1 div.sk-text-repr-fallback {display: none;}</style><div id=\"sk-container-id-1\" class=\"sk-top-container\"><div class=\"sk-text-repr-fallback\"><pre>BernoulliNB()</pre><b>In a Jupyter environment, please rerun this cell to show the HTML representation or trust the notebook. <br />On GitHub, the HTML representation is unable to render, please try loading this page with nbviewer.org.</b></div><div class=\"sk-container\" hidden><div class=\"sk-item\"><div class=\"sk-estimator sk-toggleable\"><input class=\"sk-toggleable__control sk-hidden--visually\" id=\"sk-estimator-id-1\" type=\"checkbox\" checked><label for=\"sk-estimator-id-1\" class=\"sk-toggleable__label sk-toggleable__label-arrow\">BernoulliNB</label><div class=\"sk-toggleable__content\"><pre>BernoulliNB()</pre></div></div></div></div></div>"
      ],
      "text/plain": [
       "BernoulliNB()"
      ]
     },
     "execution_count": 9,
     "metadata": {},
     "output_type": "execute_result"
    }
   ],
   "source": [
    "# Determine the number of samples to take\n",
    "sample_size = int(X_train_vect.shape[0] * 0.010)\n",
    "\n",
    "# Slice the training data\n",
    "X_train_sample = X_train_vect[:sample_size]\n",
    "y_train_sample = y_train[:sample_size]\n",
    "\n",
    "# Convert lemmas to strings\n",
    "y_train_sample_str = [str(lemma) for lemma in y_train_sample]\n",
    "\n",
    "# Now you can try fitting the Naive Bayes model again\n",
    "from sklearn.naive_bayes import BernoulliNB\n",
    "\n",
    "clf = BernoulliNB()\n",
    "clf.fit(X_train_sample, y_train_sample_str)\n"
   ]
  },
  {
   "cell_type": "code",
   "execution_count": null,
   "metadata": {},
   "outputs": [],
   "source": []
  },
  {
   "cell_type": "markdown",
   "metadata": {},
   "source": [
    "##### stops here"
   ]
  }
 ],
 "metadata": {
  "kernelspec": {
   "display_name": "melody",
   "language": "python",
   "name": "python3"
  },
  "language_info": {
   "codemirror_mode": {
    "name": "ipython",
    "version": 3
   },
   "file_extension": ".py",
   "mimetype": "text/x-python",
   "name": "python",
   "nbconvert_exporter": "python",
   "pygments_lexer": "ipython3",
   "version": "3.9.16"
  },
  "orig_nbformat": 4
 },
 "nbformat": 4,
 "nbformat_minor": 2
}
