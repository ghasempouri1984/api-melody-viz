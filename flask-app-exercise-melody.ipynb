{
 "cells": [
  {
   "cell_type": "code",
   "execution_count": 1,
   "metadata": {},
   "outputs": [
    {
     "name": "stdout",
     "output_type": "stream",
     "text": [
      "Astronomy\n",
      "علم الفلك\n",
      "Astronomia\n",
      "Astronomie\n",
      "Αστρονομία\n",
      "Astronomie\n",
      "Astronomio\n",
      "Astronomía\n",
      "Astronomia\n",
      "Astronomie\n",
      "Réalteolaíocht\n",
      "Astronomi\n",
      "Astronomia\n",
      "天文学\n",
      "천문학\n",
      "Astronomia\n",
      "Astronomia\n",
      "Astronomie\n",
      "Астрономия\n",
      "Астрономія\n",
      "Astronomi\n",
      "天文學\n"
     ]
    }
   ],
   "source": [
    "from SPARQLWrapper import SPARQLWrapper, JSON\n",
    "\n",
    "sparql = SPARQLWrapper(\"http://dbpedia.org/sparql\")\n",
    "\n",
    "# Define the query\n",
    "query = \"\"\"\n",
    "PREFIX rdfs: <http://www.w3.org/2000/01/rdf-schema#>\n",
    "SELECT ?label\n",
    "WHERE { \n",
    "  <http://dbpedia.org/resource/Astronomy> rdfs:label ?label \n",
    "}\n",
    "\"\"\"\n",
    "\n",
    "# Set the query and return format\n",
    "sparql.setQuery(query)\n",
    "sparql.setReturnFormat(JSON)\n",
    "\n",
    "# Execute the query\n",
    "results = sparql.query().convert()\n",
    "\n",
    "# Print the results\n",
    "for result in results[\"results\"][\"bindings\"]:\n",
    "    print(result[\"label\"][\"value\"])\n"
   ]
  }
 ],
 "metadata": {
  "kernelspec": {
   "display_name": "melody",
   "language": "python",
   "name": "python3"
  },
  "language_info": {
   "codemirror_mode": {
    "name": "ipython",
    "version": 3
   },
   "file_extension": ".py",
   "mimetype": "text/x-python",
   "name": "python",
   "nbconvert_exporter": "python",
   "pygments_lexer": "ipython3",
   "version": "3.9.16"
  },
  "orig_nbformat": 4,
  "vscode": {
   "interpreter": {
    "hash": "170a328245d0e1a4bb63d314a83266da92cd76b0206a348c28e49ad9efbb43bf"
   }
  }
 },
 "nbformat": 4,
 "nbformat_minor": 2
}
